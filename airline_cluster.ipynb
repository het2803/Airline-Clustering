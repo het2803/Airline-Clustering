{
 "cells": [
  {
   "cell_type": "markdown",
   "id": "6c6efc9c",
   "metadata": {},
   "source": [
    "# Step One: Import libraries and dataset #"
   ]
  },
  {
   "cell_type": "code",
   "execution_count": null,
   "id": "5da1ed99",
   "metadata": {},
   "outputs": [],
   "source": [
    "# Dependencies\n",
    "import pandas as pd\n",
    "import numpy as np\n",
    "import matplotlib.pyplot as plt\n",
    "from sklearn.cluster import KMeans\n",
    "from sklearn.preprocessing import StandardScaler\n",
    "import os\n"
   ]
  },
  {
   "cell_type": "code",
   "execution_count": null,
   "id": "a4cc54b0",
   "metadata": {},
   "outputs": [],
   "source": [
    "# use glob to get all the csv files\n",
    "# in the folder\n",
    "path = os.getcwd()\n",
    "\n",
    "# Import Dataset\n",
    "aline=pd.read_excel(path + \"\\data\\EastWestAirlines.xlsx\", sheet_name='data')\n",
    "aline"
   ]
  },
  {
   "cell_type": "code",
   "execution_count": null,
   "id": "5b403c0b",
   "metadata": {},
   "outputs": [],
   "source": []
  }
 ],
 "metadata": {
  "kernelspec": {
   "display_name": "Python 3 (ipykernel)",
   "language": "python",
   "name": "python3"
  },
  "language_info": {
   "codemirror_mode": {
    "name": "ipython",
    "version": 3
   },
   "file_extension": ".py",
   "mimetype": "text/x-python",
   "name": "python",
   "nbconvert_exporter": "python",
   "pygments_lexer": "ipython3",
   "version": "3.10.4"
  }
 },
 "nbformat": 4,
 "nbformat_minor": 5
}
